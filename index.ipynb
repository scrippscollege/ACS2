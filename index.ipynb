{
 "cells": [
  {
   "cell_type": "markdown",
   "metadata": {},
   "source": [
    "# Welcome to MS 059 SCR, Alternative Computer Science!\n",
    "\n",
    "## Trello\n",
    "\n",
    "## Binder (Scriptable Jupyter Lab notebooks)\n",
    "\n",
    "## Google CoLab (Shareable Jupyter Lab notebook host)\n",
    "\n",
    "## Processing.py, aka Python Mode for Processing\n",
    "https://py.processing.org\n",
    "\n",
    "You write Processing code. In Python.\n",
    "\n",
    "Processing is a programming language, development environment, and online community. Since 2001, Processing has promoted software literacy within the visual arts and visual literacy within technology. Today, there are tens of thousands of students, artists, designers, researchers, and hobbyists who use Processing for learning, prototyping, and production.\n",
    "\n",
    "## Whirlwind Tour of Python\n",
    "\n",
    "## Getting Started with Processing.py\n",
    "\n",
    "## Code Dictées"
   ]
  }
 ],
 "metadata": {
  "kernelspec": {
   "display_name": "Python 3",
   "language": "python",
   "name": "python3"
  },
  "language_info": {
   "codemirror_mode": {
    "name": "ipython",
    "version": 3
   },
   "file_extension": ".py",
   "mimetype": "text/x-python",
   "name": "python",
   "nbconvert_exporter": "python",
   "pygments_lexer": "ipython3",
   "version": "3.7.6"
  }
 },
 "nbformat": 4,
 "nbformat_minor": 4
}
